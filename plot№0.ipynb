{
 "cells": [
  {
   "cell_type": "markdown",
   "metadata": {},
   "source": [
    "Импортируем всё необходимое:"
   ]
  },
  {
   "cell_type": "code",
   "execution_count": 45,
   "metadata": {
    "colab": {},
    "colab_type": "code",
    "id": "zKxh3tiq16Ta"
   },
   "outputs": [],
   "source": [
    "import numpy as np\n",
    "import matplotlib\n",
    "import matplotlib.pyplot as plt\n",
    "import random\n",
    "from random import choice\n",
    "import pandas as pd\n",
    "import seaborn as sns"
   ]
  },
  {
   "cell_type": "markdown",
   "metadata": {},
   "source": [
    "Cинтезируем рандомную последователность:"
   ]
  },
  {
   "cell_type": "code",
   "execution_count": 8,
   "metadata": {
    "colab": {},
    "colab_type": "code",
    "id": "BioDiPsB0awT"
   },
   "outputs": [],
   "source": [
    "def random_dna_sequence(length):\n",
    "    return ''.join(random.choice('ACTG') for _ in range(length))"
   ]
  },
  {
   "cell_type": "code",
   "execution_count": 37,
   "metadata": {},
   "outputs": [
    {
     "data": {
      "text/plain": [
       "'TGTACAC'"
      ]
     },
     "execution_count": 37,
     "metadata": {},
     "output_type": "execute_result"
    }
   ],
   "source": [
    "seq = random_dna_sequence(7)\n",
    "seq"
   ]
  },
  {
   "cell_type": "markdown",
   "metadata": {},
   "source": [
    "Переводим в более преемлемый вид:"
   ]
  },
  {
   "cell_type": "code",
   "execution_count": 38,
   "metadata": {
    "colab": {},
    "colab_type": "code",
    "id": "HSmO3N1l03Rn"
   },
   "outputs": [],
   "source": [
    "seqlist = []\n",
    "for nuc in seq:\n",
    "    seqlist.append(nuc)"
   ]
  },
  {
   "cell_type": "code",
   "execution_count": 39,
   "metadata": {
    "colab": {},
    "colab_type": "code",
    "id": "hS22pmYy1Qup"
   },
   "outputs": [],
   "source": [
    "df = pd.DataFrame({'nucleotide': seqlist})"
   ]
  },
  {
   "cell_type": "code",
   "execution_count": 40,
   "metadata": {
    "colab": {},
    "colab_type": "code",
    "id": "cntaQ6PO2Kkd"
   },
   "outputs": [],
   "source": [
    "df = pd.get_dummies(df['nucleotide'])"
   ]
  },
  {
   "cell_type": "code",
   "execution_count": 41,
   "metadata": {
    "colab": {},
    "colab_type": "code",
    "id": "faSBkZIt3wnr"
   },
   "outputs": [],
   "source": [
    "df = df.T"
   ]
  },
  {
   "cell_type": "code",
   "execution_count": 42,
   "metadata": {
    "colab": {
     "base_uri": "https://localhost:8080/",
     "height": 34
    },
    "colab_type": "code",
    "executionInfo": {
     "elapsed": 1622,
     "status": "ok",
     "timestamp": 1590931592619,
     "user": {
      "displayName": "Алексей Шевкопляс",
      "photoUrl": "https://lh3.googleusercontent.com/a-/AOh14GhrvV-BuFe3EHlDpMGWs_AVdJXwom8O489dtcXHeA=s64",
      "userId": "09903530343763341318"
     },
     "user_tz": -180
    },
    "id": "3nY0lzrm5IY3",
    "outputId": "ae7c7236-3de2-4727-dc92-7a90a9b5297f"
   },
   "outputs": [
    {
     "data": {
      "text/plain": [
       "Index(['A', 'C', 'G', 'T'], dtype='object')"
      ]
     },
     "execution_count": 42,
     "metadata": {},
     "output_type": "execute_result"
    }
   ],
   "source": [
    "df.index"
   ]
  },
  {
   "cell_type": "markdown",
   "metadata": {},
   "source": [
    "Строим сам плот:"
   ]
  },
  {
   "cell_type": "code",
   "execution_count": 46,
   "metadata": {
    "colab": {
     "base_uri": "https://localhost:8080/",
     "height": 282
    },
    "colab_type": "code",
    "executionInfo": {
     "elapsed": 1317,
     "status": "ok",
     "timestamp": 1590931593893,
     "user": {
      "displayName": "Алексей Шевкопляс",
      "photoUrl": "https://lh3.googleusercontent.com/a-/AOh14GhrvV-BuFe3EHlDpMGWs_AVdJXwom8O489dtcXHeA=s64",
      "userId": "09903530343763341318"
     },
     "user_tz": -180
    },
    "id": "VdTA2Ovc2njV",
    "outputId": "fc9c87eb-b8d6-4870-dc93-6c807e2cc6a0"
   },
   "outputs": [
    {
     "data": {
      "text/plain": [
       "<matplotlib.collections.PolyCollection at 0x1cf25ffa898>"
      ]
     },
     "execution_count": 46,
     "metadata": {},
     "output_type": "execute_result"
    },
    {
     "data": {
      "image/png": "[encoded data removed]",
      "text/plain": [
       "<Figure size 432x288 with 1 Axes>"
      ]
     },
     "metadata": {},
     "output_type": "display_data"
    }
   ],
   "source": [
    "fig, ax = plt.subplots()\n",
    "ax.set_xticks(np.arange(len(seqlist)) + 0.5)\n",
    "ax.set_yticks(np.arange(4) + 0.5)\n",
    "ax.set_xticklabels(seqlist)\n",
    "ax.set_yticklabels(df.index)\n",
    "ax.pcolor(df, cmap='binary')\n"
   ]
  },
  {
   "cell_type": "markdown",
   "metadata": {},
   "source": [
    "Или так:"
   ]
  },
  {
   "cell_type": "code",
   "execution_count": 62,
   "metadata": {},
   "outputs": [
    {
     "data": {
      "text/plain": [
       "<matplotlib.axes._subplots.AxesSubplot at 0x1cf26582d68>"
      ]
     },
     "execution_count": 62,
     "metadata": {},
     "output_type": "execute_result"
    },
    {
     "data": {
      "image/png": "[encoded data removed]",
      "text/plain": [
       "<Figure size 432x288 with 2 Axes>"
      ]
     },
     "metadata": {},
     "output_type": "display_data"
    }
   ],
   "source": [
    "ax2 = sns.heatmap(df, cmap='binary')\n",
    "ax2.set_xticklabels(seqlist)\n",
    "ax2"
   ]
  },
  {
   "cell_type": "code",
   "execution_count": null,
   "metadata": {},
   "outputs": [],
   "source": []
  }
 ],
 "metadata": {
  "colab": {
   "authorship_tag": "ABX9TyMrFs3Etaa/cnZTq6quY2dx",
   "collapsed_sections": [],
   "name": "onehot.ipynb",
   "provenance": []
  },
  "kernelspec": {
   "display_name": "Python 3",
   "language": "python",
   "name": "python3"
  },
  "language_info": {
   "codemirror_mode": {
    "name": "ipython",
    "version": 3
   },
   "file_extension": ".py",
   "mimetype": "text/x-python",
   "name": "python",
   "nbconvert_exporter": "python",
   "pygments_lexer": "ipython3",
   "version": "3.6.5"
  }
 },
 "nbformat": 4,
 "nbformat_minor": 1
}
